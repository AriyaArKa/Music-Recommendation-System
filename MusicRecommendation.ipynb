{
 "cells": [
  {
   "cell_type": "code",
   "execution_count": 3,
   "id": "51b50335",
   "metadata": {},
   "outputs": [],
   "source": [
    "import pandas as pd\n",
    "import numpy as np"
   ]
  },
  {
   "cell_type": "code",
   "execution_count": 4,
   "id": "42054ec4",
   "metadata": {},
   "outputs": [
    {
     "name": "stdout",
     "output_type": "stream",
     "text": [
      "Dataset URL: https://www.kaggle.com/datasets/noorsaeed/songs-recommendation-dataset\n"
     ]
    }
   ],
   "source": [
    "from kaggle.api.kaggle_api_extended import KaggleApi\n",
    "\n",
    "api = KaggleApi()\n",
    "api.authenticate()\n",
    "\n",
    "# Download the dataset\n",
    "api.dataset_download_files('noorsaeed/songs-recommendation-dataset', path='data/', unzip=True)\n"
   ]
  },
  {
   "cell_type": "code",
   "execution_count": 13,
   "id": "ce56ba64",
   "metadata": {},
   "outputs": [
    {
     "data": {
      "text/html": [
       "<div>\n",
       "<style scoped>\n",
       "    .dataframe tbody tr th:only-of-type {\n",
       "        vertical-align: middle;\n",
       "    }\n",
       "\n",
       "    .dataframe tbody tr th {\n",
       "        vertical-align: top;\n",
       "    }\n",
       "\n",
       "    .dataframe thead th {\n",
       "        text-align: right;\n",
       "    }\n",
       "</style>\n",
       "<table border=\"1\" class=\"dataframe\">\n",
       "  <thead>\n",
       "    <tr style=\"text-align: right;\">\n",
       "      <th></th>\n",
       "      <th>artist</th>\n",
       "      <th>song</th>\n",
       "      <th>link</th>\n",
       "      <th>text</th>\n",
       "    </tr>\n",
       "  </thead>\n",
       "  <tbody>\n",
       "    <tr>\n",
       "      <th>0</th>\n",
       "      <td>ABBA</td>\n",
       "      <td>Ahe's My Kind Of Girl</td>\n",
       "      <td>/a/abba/ahes+my+kind+of+girl_20598417.html</td>\n",
       "      <td>Look at her face, it's a wonderful face  \\nAnd...</td>\n",
       "    </tr>\n",
       "    <tr>\n",
       "      <th>1</th>\n",
       "      <td>ABBA</td>\n",
       "      <td>Andante, Andante</td>\n",
       "      <td>/a/abba/andante+andante_20002708.html</td>\n",
       "      <td>Take it easy with me, please  \\nTouch me gentl...</td>\n",
       "    </tr>\n",
       "    <tr>\n",
       "      <th>2</th>\n",
       "      <td>ABBA</td>\n",
       "      <td>As Good As New</td>\n",
       "      <td>/a/abba/as+good+as+new_20003033.html</td>\n",
       "      <td>I'll never know why I had to go  \\nWhy I had t...</td>\n",
       "    </tr>\n",
       "    <tr>\n",
       "      <th>3</th>\n",
       "      <td>ABBA</td>\n",
       "      <td>Bang</td>\n",
       "      <td>/a/abba/bang_20598415.html</td>\n",
       "      <td>Making somebody happy is a question of give an...</td>\n",
       "    </tr>\n",
       "    <tr>\n",
       "      <th>4</th>\n",
       "      <td>ABBA</td>\n",
       "      <td>Bang-A-Boomerang</td>\n",
       "      <td>/a/abba/bang+a+boomerang_20002668.html</td>\n",
       "      <td>Making somebody happy is a question of give an...</td>\n",
       "    </tr>\n",
       "  </tbody>\n",
       "</table>\n",
       "</div>"
      ],
      "text/plain": [
       "  artist                   song                                        link  \\\n",
       "0   ABBA  Ahe's My Kind Of Girl  /a/abba/ahes+my+kind+of+girl_20598417.html   \n",
       "1   ABBA       Andante, Andante       /a/abba/andante+andante_20002708.html   \n",
       "2   ABBA         As Good As New        /a/abba/as+good+as+new_20003033.html   \n",
       "3   ABBA                   Bang                  /a/abba/bang_20598415.html   \n",
       "4   ABBA       Bang-A-Boomerang      /a/abba/bang+a+boomerang_20002668.html   \n",
       "\n",
       "                                                text  \n",
       "0  Look at her face, it's a wonderful face  \\nAnd...  \n",
       "1  Take it easy with me, please  \\nTouch me gentl...  \n",
       "2  I'll never know why I had to go  \\nWhy I had t...  \n",
       "3  Making somebody happy is a question of give an...  \n",
       "4  Making somebody happy is a question of give an...  "
      ]
     },
     "execution_count": 13,
     "metadata": {},
     "output_type": "execute_result"
    }
   ],
   "source": [
    "df = pd.read_csv('data/songdata.csv')\n",
    "df.head()"
   ]
  },
  {
   "cell_type": "code",
   "execution_count": 14,
   "id": "e621d39a",
   "metadata": {},
   "outputs": [
    {
     "data": {
      "text/plain": [
       "(57650, 4)"
      ]
     },
     "execution_count": 14,
     "metadata": {},
     "output_type": "execute_result"
    }
   ],
   "source": [
    "df.shape"
   ]
  },
  {
   "cell_type": "code",
   "execution_count": 15,
   "id": "a41b6e3d",
   "metadata": {},
   "outputs": [],
   "source": [
    "df = df.sample(n=5000).drop('link', axis=1).reset_index(drop=True)"
   ]
  },
  {
   "cell_type": "code",
   "execution_count": 16,
   "id": "1c6ef689",
   "metadata": {},
   "outputs": [
    {
     "data": {
      "text/html": [
       "<div>\n",
       "<style scoped>\n",
       "    .dataframe tbody tr th:only-of-type {\n",
       "        vertical-align: middle;\n",
       "    }\n",
       "\n",
       "    .dataframe tbody tr th {\n",
       "        vertical-align: top;\n",
       "    }\n",
       "\n",
       "    .dataframe thead th {\n",
       "        text-align: right;\n",
       "    }\n",
       "</style>\n",
       "<table border=\"1\" class=\"dataframe\">\n",
       "  <thead>\n",
       "    <tr style=\"text-align: right;\">\n",
       "      <th></th>\n",
       "      <th>artist</th>\n",
       "      <th>song</th>\n",
       "      <th>text</th>\n",
       "    </tr>\n",
       "  </thead>\n",
       "  <tbody>\n",
       "    <tr>\n",
       "      <th>0</th>\n",
       "      <td>Queen</td>\n",
       "      <td>Soul Brother</td>\n",
       "      <td>God bless my soul here he comes now  \\nThe man...</td>\n",
       "    </tr>\n",
       "    <tr>\n",
       "      <th>1</th>\n",
       "      <td>Pat Benatar</td>\n",
       "      <td>I've Got Papers On You</td>\n",
       "      <td>I've got papers on you baby  \\nYou gotta do wh...</td>\n",
       "    </tr>\n",
       "    <tr>\n",
       "      <th>2</th>\n",
       "      <td>Zox</td>\n",
       "      <td>Goodbye To You</td>\n",
       "      <td>Broken down in paradise  \\nI'm heavy like I'm ...</td>\n",
       "    </tr>\n",
       "    <tr>\n",
       "      <th>3</th>\n",
       "      <td>Grand Funk Railroad</td>\n",
       "      <td>Comfort Me</td>\n",
       "      <td>I was found after losing my way,  \\nSafe and s...</td>\n",
       "    </tr>\n",
       "    <tr>\n",
       "      <th>4</th>\n",
       "      <td>Frank Zappa</td>\n",
       "      <td>How Could I Be Such A Fool?</td>\n",
       "      <td>When I won your love  \\nI was very glad  \\nEve...</td>\n",
       "    </tr>\n",
       "  </tbody>\n",
       "</table>\n",
       "</div>"
      ],
      "text/plain": [
       "                artist                         song  \\\n",
       "0                Queen                 Soul Brother   \n",
       "1          Pat Benatar       I've Got Papers On You   \n",
       "2                  Zox               Goodbye To You   \n",
       "3  Grand Funk Railroad                   Comfort Me   \n",
       "4          Frank Zappa  How Could I Be Such A Fool?   \n",
       "\n",
       "                                                text  \n",
       "0  God bless my soul here he comes now  \\nThe man...  \n",
       "1  I've got papers on you baby  \\nYou gotta do wh...  \n",
       "2  Broken down in paradise  \\nI'm heavy like I'm ...  \n",
       "3  I was found after losing my way,  \\nSafe and s...  \n",
       "4  When I won your love  \\nI was very glad  \\nEve...  "
      ]
     },
     "execution_count": 16,
     "metadata": {},
     "output_type": "execute_result"
    }
   ],
   "source": [
    "df.head()"
   ]
  },
  {
   "cell_type": "markdown",
   "id": "5dd7cc9d",
   "metadata": {},
   "source": [
    "ConteNT bASED RECOMMENDATION SYSTEM"
   ]
  },
  {
   "cell_type": "code",
   "execution_count": 17,
   "id": "f481557b",
   "metadata": {},
   "outputs": [
    {
     "data": {
      "text/plain": [
       "0                     Queen\n",
       "1               Pat Benatar\n",
       "2                       Zox\n",
       "3       Grand Funk Railroad\n",
       "4               Frank Zappa\n",
       "               ...         \n",
       "4995                   ABBA\n",
       "4996                   Kiss\n",
       "4997            John Martyn\n",
       "4998              Tori Amos\n",
       "4999          Joni Mitchell\n",
       "Name: artist, Length: 5000, dtype: object"
      ]
     },
     "execution_count": 17,
     "metadata": {},
     "output_type": "execute_result"
    }
   ],
   "source": [
    "df['artist']"
   ]
  },
  {
   "cell_type": "code",
   "execution_count": 18,
   "id": "4648d82a",
   "metadata": {},
   "outputs": [
    {
     "data": {
      "text/plain": [
       "'Soul Brother'"
      ]
     },
     "execution_count": 18,
     "metadata": {},
     "output_type": "execute_result"
    }
   ],
   "source": [
    "df['song'][0]"
   ]
  },
  {
   "cell_type": "code",
   "execution_count": 19,
   "id": "926f673c",
   "metadata": {},
   "outputs": [
    {
     "data": {
      "text/plain": [
       "\"God bless my soul here he comes now  \\nThe man with the most how does he do it?  \\nSure he's got style he's so heavy  \\nHe's a trip can do anything  \\nAnything anything  \\nHe's my soul brother  \\n  \\nHe's my best friend he's my champion  \\nAnd he will rock you rock you rock you  \\n'Cause he's the saviour of the universe  \\nHe can make you keep yourself alive  \\nMake yourself alive  \\nOoh brother cause he's somebody somebody  \\nHe can love  \\nHe's my soul brother  \\n  \\nWhan you're under pressure feeling under pressure  \\nYeah pressure yeah pressure  \\nHe won't let you down  \\nWhan you're under pressure  \\nOh feeling under pressure yeah pressure  \\nSo he won't let you down  \\nHe won't he won't he won't let you down  \\nHe can do anything anything anything  \\nHe's my soul brother  \\n  \\nYea ah yeah yeah yeah yeah yeah  \\nOoh soul brother anything (soul brother)  \\nAnything (soul brother) anything (soul brother)  \\nHe's my soul brother brother brother brother brother  \\nAnything (soul brother) anything (soul brother)  \\nHe's my soul brother  \\n  \\nSoul brother he can do anything  \\nHe can do anything  \\n'Cause he's my soul brother  \\n\\n\""
      ]
     },
     "execution_count": 19,
     "metadata": {},
     "output_type": "execute_result"
    }
   ],
   "source": [
    "df['text'][0]"
   ]
  },
  {
   "cell_type": "markdown",
   "id": "d5b86ddc",
   "metadata": {},
   "source": [
    "Text Preprocessing "
   ]
  },
  {
   "cell_type": "code",
   "execution_count": 20,
   "id": "10c78414",
   "metadata": {},
   "outputs": [],
   "source": [
    "# Convert all text in the 'text' column to lowercase\n",
    "# Remove special characters (anything that is not a word character or whitespace)\n",
    "# Replace newline characters (\\n) with a space\n",
    "df['text'] = df['text'].str.lower().replace(r'[^\\w\\s]','').replace(r'\\n',' ', regex=True)"
   ]
  },
  {
   "cell_type": "code",
   "execution_count": 21,
   "id": "ba89826b",
   "metadata": {},
   "outputs": [
    {
     "data": {
      "text/plain": [
       "\"god bless my soul here he comes now   the man with the most how does he do it?   sure he's got style he's so heavy   he's a trip can do anything   anything anything   he's my soul brother      he's my best friend he's my champion   and he will rock you rock you rock you   'cause he's the saviour of the universe   he can make you keep yourself alive   make yourself alive   ooh brother cause he's somebody somebody   he can love   he's my soul brother      whan you're under pressure feeling under pressure   yeah pressure yeah pressure   he won't let you down   whan you're under pressure   oh feeling under pressure yeah pressure   so he won't let you down   he won't he won't he won't let you down   he can do anything anything anything   he's my soul brother      yea ah yeah yeah yeah yeah yeah   ooh soul brother anything (soul brother)   anything (soul brother) anything (soul brother)   he's my soul brother brother brother brother brother   anything (soul brother) anything (soul brother)   he's my soul brother      soul brother he can do anything   he can do anything   'cause he's my soul brother    \""
      ]
     },
     "execution_count": 21,
     "metadata": {},
     "output_type": "execute_result"
    }
   ],
   "source": [
    "df['text'][0]\n"
   ]
  },
  {
   "cell_type": "code",
   "execution_count": null,
   "id": "3a091d87",
   "metadata": {},
   "outputs": [],
   "source": [
    "import nltk\n",
    "from nltk.stem.porter import PorterStemmer\n",
    "stemmer = PorterStemmer()\n",
    "\n",
    "def tokenization(txt):\n",
    "    tokens = nltk.word_tokenize(txt)\n",
    "    stemming = [stemmer.stem(w) for w in tokens]\n",
    "    return \" \".join(stemming)"
   ]
  },
  {
   "cell_type": "code",
   "execution_count": null,
   "id": "294cfdc8",
   "metadata": {},
   "outputs": [],
   "source": [
    "df['text'] = df['text'].apply(lambda x: tokenization(x))\n"
   ]
  },
  {
   "cell_type": "code",
   "execution_count": null,
   "id": "69e8d934",
   "metadata": {},
   "outputs": [],
   "source": [
    "from sklearn.feature_extraction.text import TfidfVectorizer\n",
    "from sklearn.metrics.pairwise import cosine_similarity"
   ]
  },
  {
   "cell_type": "code",
   "execution_count": null,
   "id": "9926a3df",
   "metadata": {},
   "outputs": [],
   "source": [
    "tfidvector = TfidfVectorizer(analyzer='word',stop_words='english')\n",
    "matrix = tfidvector.fit_transform(df['text'])\n",
    "similarity = cosine_similarity(matrix)"
   ]
  },
  {
   "cell_type": "code",
   "execution_count": null,
   "id": "dea8d840",
   "metadata": {},
   "outputs": [],
   "source": [
    "similarity[0]\n"
   ]
  },
  {
   "cell_type": "code",
   "execution_count": null,
   "id": "4db828e0",
   "metadata": {},
   "outputs": [],
   "source": [
    "df[df['song']==''].index[0]\n"
   ]
  },
  {
   "cell_type": "code",
   "execution_count": null,
   "id": "a41454e8",
   "metadata": {},
   "outputs": [],
   "source": [
    "def recommendation(song_df):\n",
    "    idx = df[df['song'] == song_df].index[0]\n",
    "    distances = sorted(list(enumerate(similarity[idx])),reverse=True,key=lambda x:x[1])\n",
    "    \n",
    "    songs = []\n",
    "    for m_id in distances[1:21]:\n",
    "        songs.append(df.iloc[m_id[0]].song)\n",
    "        \n",
    "    return songs"
   ]
  },
  {
   "cell_type": "code",
   "execution_count": null,
   "id": "b21f5533",
   "metadata": {},
   "outputs": [],
   "source": [
    "recommendation('Alma Mater')\n"
   ]
  },
  {
   "cell_type": "code",
   "execution_count": null,
   "id": "d643c1db",
   "metadata": {},
   "outputs": [],
   "source": [
    "import pickle\n",
    "pickle.dump(similarity,open('similarity.pkl','wb'))\n",
    "pickle.dump(df,open('df.pkl','wb'))"
   ]
  }
 ],
 "metadata": {
  "kernelspec": {
   "display_name": "Python 3",
   "language": "python",
   "name": "python3"
  },
  "language_info": {
   "codemirror_mode": {
    "name": "ipython",
    "version": 3
   },
   "file_extension": ".py",
   "mimetype": "text/x-python",
   "name": "python",
   "nbconvert_exporter": "python",
   "pygments_lexer": "ipython3",
   "version": "3.13.1"
  }
 },
 "nbformat": 4,
 "nbformat_minor": 5
}
