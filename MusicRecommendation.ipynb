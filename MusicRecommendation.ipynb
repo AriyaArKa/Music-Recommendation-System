{
 "cells": [
  {
   "cell_type": "code",
   "execution_count": 53,
   "id": "51b50335",
   "metadata": {},
   "outputs": [],
   "source": [
    "import pandas as pd\n",
    "import numpy as np"
   ]
  },
  {
   "cell_type": "code",
   "execution_count": 54,
   "id": "42054ec4",
   "metadata": {},
   "outputs": [
    {
     "name": "stdout",
     "output_type": "stream",
     "text": [
      "Dataset URL: https://www.kaggle.com/datasets/noorsaeed/songs-recommendation-dataset\n"
     ]
    }
   ],
   "source": [
    "from kaggle.api.kaggle_api_extended import KaggleApi\n",
    "\n",
    "api = KaggleApi()\n",
    "api.authenticate()\n",
    "\n",
    "# Download the dataset\n",
    "api.dataset_download_files('noorsaeed/songs-recommendation-dataset', path='data/', unzip=True)\n"
   ]
  },
  {
   "cell_type": "code",
   "execution_count": 55,
   "id": "ce56ba64",
   "metadata": {},
   "outputs": [
    {
     "data": {
      "text/html": [
       "<div>\n",
       "<style scoped>\n",
       "    .dataframe tbody tr th:only-of-type {\n",
       "        vertical-align: middle;\n",
       "    }\n",
       "\n",
       "    .dataframe tbody tr th {\n",
       "        vertical-align: top;\n",
       "    }\n",
       "\n",
       "    .dataframe thead th {\n",
       "        text-align: right;\n",
       "    }\n",
       "</style>\n",
       "<table border=\"1\" class=\"dataframe\">\n",
       "  <thead>\n",
       "    <tr style=\"text-align: right;\">\n",
       "      <th></th>\n",
       "      <th>artist</th>\n",
       "      <th>song</th>\n",
       "      <th>link</th>\n",
       "      <th>text</th>\n",
       "    </tr>\n",
       "  </thead>\n",
       "  <tbody>\n",
       "    <tr>\n",
       "      <th>0</th>\n",
       "      <td>ABBA</td>\n",
       "      <td>Ahe's My Kind Of Girl</td>\n",
       "      <td>/a/abba/ahes+my+kind+of+girl_20598417.html</td>\n",
       "      <td>Look at her face, it's a wonderful face  \\nAnd...</td>\n",
       "    </tr>\n",
       "    <tr>\n",
       "      <th>1</th>\n",
       "      <td>ABBA</td>\n",
       "      <td>Andante, Andante</td>\n",
       "      <td>/a/abba/andante+andante_20002708.html</td>\n",
       "      <td>Take it easy with me, please  \\nTouch me gentl...</td>\n",
       "    </tr>\n",
       "    <tr>\n",
       "      <th>2</th>\n",
       "      <td>ABBA</td>\n",
       "      <td>As Good As New</td>\n",
       "      <td>/a/abba/as+good+as+new_20003033.html</td>\n",
       "      <td>I'll never know why I had to go  \\nWhy I had t...</td>\n",
       "    </tr>\n",
       "    <tr>\n",
       "      <th>3</th>\n",
       "      <td>ABBA</td>\n",
       "      <td>Bang</td>\n",
       "      <td>/a/abba/bang_20598415.html</td>\n",
       "      <td>Making somebody happy is a question of give an...</td>\n",
       "    </tr>\n",
       "    <tr>\n",
       "      <th>4</th>\n",
       "      <td>ABBA</td>\n",
       "      <td>Bang-A-Boomerang</td>\n",
       "      <td>/a/abba/bang+a+boomerang_20002668.html</td>\n",
       "      <td>Making somebody happy is a question of give an...</td>\n",
       "    </tr>\n",
       "  </tbody>\n",
       "</table>\n",
       "</div>"
      ],
      "text/plain": [
       "  artist                   song                                        link  \\\n",
       "0   ABBA  Ahe's My Kind Of Girl  /a/abba/ahes+my+kind+of+girl_20598417.html   \n",
       "1   ABBA       Andante, Andante       /a/abba/andante+andante_20002708.html   \n",
       "2   ABBA         As Good As New        /a/abba/as+good+as+new_20003033.html   \n",
       "3   ABBA                   Bang                  /a/abba/bang_20598415.html   \n",
       "4   ABBA       Bang-A-Boomerang      /a/abba/bang+a+boomerang_20002668.html   \n",
       "\n",
       "                                                text  \n",
       "0  Look at her face, it's a wonderful face  \\nAnd...  \n",
       "1  Take it easy with me, please  \\nTouch me gentl...  \n",
       "2  I'll never know why I had to go  \\nWhy I had t...  \n",
       "3  Making somebody happy is a question of give an...  \n",
       "4  Making somebody happy is a question of give an...  "
      ]
     },
     "execution_count": 55,
     "metadata": {},
     "output_type": "execute_result"
    }
   ],
   "source": [
    "df = pd.read_csv('data/songdata.csv')\n",
    "df.head()"
   ]
  },
  {
   "cell_type": "code",
   "execution_count": 56,
   "id": "e621d39a",
   "metadata": {},
   "outputs": [
    {
     "data": {
      "text/plain": [
       "(57650, 4)"
      ]
     },
     "execution_count": 56,
     "metadata": {},
     "output_type": "execute_result"
    }
   ],
   "source": [
    "df.shape"
   ]
  },
  {
   "cell_type": "code",
   "execution_count": 57,
   "id": "a41b6e3d",
   "metadata": {},
   "outputs": [],
   "source": [
    "df = df.sample(n=5000).drop('link', axis=1).reset_index(drop=True)"
   ]
  },
  {
   "cell_type": "code",
   "execution_count": 58,
   "id": "1c6ef689",
   "metadata": {},
   "outputs": [
    {
     "data": {
      "text/html": [
       "<div>\n",
       "<style scoped>\n",
       "    .dataframe tbody tr th:only-of-type {\n",
       "        vertical-align: middle;\n",
       "    }\n",
       "\n",
       "    .dataframe tbody tr th {\n",
       "        vertical-align: top;\n",
       "    }\n",
       "\n",
       "    .dataframe thead th {\n",
       "        text-align: right;\n",
       "    }\n",
       "</style>\n",
       "<table border=\"1\" class=\"dataframe\">\n",
       "  <thead>\n",
       "    <tr style=\"text-align: right;\">\n",
       "      <th></th>\n",
       "      <th>artist</th>\n",
       "      <th>song</th>\n",
       "      <th>text</th>\n",
       "    </tr>\n",
       "  </thead>\n",
       "  <tbody>\n",
       "    <tr>\n",
       "      <th>0</th>\n",
       "      <td>Megadeth</td>\n",
       "      <td>Symphony Of Destruction</td>\n",
       "      <td>You take a mortal man  \\nAnd put him in contro...</td>\n",
       "    </tr>\n",
       "    <tr>\n",
       "      <th>1</th>\n",
       "      <td>Uncle Tupelo</td>\n",
       "      <td>Black Eye</td>\n",
       "      <td>He had a black eye  \\nHe was proud of  \\nLike ...</td>\n",
       "    </tr>\n",
       "    <tr>\n",
       "      <th>2</th>\n",
       "      <td>Elvis Presley</td>\n",
       "      <td>Find Out What's Happening</td>\n",
       "      <td>Baby you know me well  \\nYou know I mean what ...</td>\n",
       "    </tr>\n",
       "    <tr>\n",
       "      <th>3</th>\n",
       "      <td>Rolling Stones</td>\n",
       "      <td>Claudine</td>\n",
       "      <td>Claudine's back in jail again  \\nClaudine's ba...</td>\n",
       "    </tr>\n",
       "    <tr>\n",
       "      <th>4</th>\n",
       "      <td>Kirsty Maccoll</td>\n",
       "      <td>Teenager In Love</td>\n",
       "      <td>He's my boyfriend but he treats me so mean and...</td>\n",
       "    </tr>\n",
       "  </tbody>\n",
       "</table>\n",
       "</div>"
      ],
      "text/plain": [
       "           artist                       song  \\\n",
       "0        Megadeth    Symphony Of Destruction   \n",
       "1    Uncle Tupelo                  Black Eye   \n",
       "2   Elvis Presley  Find Out What's Happening   \n",
       "3  Rolling Stones                   Claudine   \n",
       "4  Kirsty Maccoll           Teenager In Love   \n",
       "\n",
       "                                                text  \n",
       "0  You take a mortal man  \\nAnd put him in contro...  \n",
       "1  He had a black eye  \\nHe was proud of  \\nLike ...  \n",
       "2  Baby you know me well  \\nYou know I mean what ...  \n",
       "3  Claudine's back in jail again  \\nClaudine's ba...  \n",
       "4  He's my boyfriend but he treats me so mean and...  "
      ]
     },
     "execution_count": 58,
     "metadata": {},
     "output_type": "execute_result"
    }
   ],
   "source": [
    "df.head()"
   ]
  },
  {
   "cell_type": "markdown",
   "id": "5dd7cc9d",
   "metadata": {},
   "source": [
    "ConteNT bASED RECOMMENDATION SYSTEM"
   ]
  },
  {
   "cell_type": "code",
   "execution_count": 59,
   "id": "f481557b",
   "metadata": {},
   "outputs": [
    {
     "data": {
      "text/plain": [
       "0                 Megadeth\n",
       "1             Uncle Tupelo\n",
       "2            Elvis Presley\n",
       "3           Rolling Stones\n",
       "4           Kirsty Maccoll\n",
       "               ...        \n",
       "4995           Demi Lovato\n",
       "4996             Metallica\n",
       "4997    Christina Aguilera\n",
       "4998               Santana\n",
       "4999                  Korn\n",
       "Name: artist, Length: 5000, dtype: object"
      ]
     },
     "execution_count": 59,
     "metadata": {},
     "output_type": "execute_result"
    }
   ],
   "source": [
    "df['artist']"
   ]
  },
  {
   "cell_type": "code",
   "execution_count": 60,
   "id": "4648d82a",
   "metadata": {},
   "outputs": [
    {
     "data": {
      "text/plain": [
       "'Symphony Of Destruction'"
      ]
     },
     "execution_count": 60,
     "metadata": {},
     "output_type": "execute_result"
    }
   ],
   "source": [
    "df['song'][0]"
   ]
  },
  {
   "cell_type": "code",
   "execution_count": 61,
   "id": "926f673c",
   "metadata": {},
   "outputs": [
    {
     "data": {
      "text/plain": [
       "\"You take a mortal man  \\nAnd put him in control  \\nWatch him become a god  \\nWatch people's heads a'roll  \\nA'roll, a' roll  \\n  \\nJust like the Pied Piper  \\nLed rats through the streets  \\nWe dance like marionettes  \\nSwaying to the symphony  \\nOf destruction  \\n  \\nActing like a robot  \\nIts metal brain corrodes  \\nYou try to take its pulse  \\nBefore the head explodes  \\nExplodes, explodes  \\n  \\nJust like the Pied Piper  \\nLed rats through the streets  \\nWe dance like marionettes  \\nSwaying to the symphony  \\n  \\nJust like the Pied Piper  \\nLed rats through the streets  \\nWe dance like marionettes  \\nSwaying to the symphony  \\nSwaying to the symphony  \\nOf destruction  \\n  \\nThe earth starts to rumble  \\nWorld powers fall  \\nA'warring for the heavens  \\nA peaceful man stands tall  \\nTall, tall  \\n  \\nJust like the Pied Piper  \\nLed rats through the streets  \\nWe dance like marionettes  \\nSwaying to the symphony  \\n  \\nJust like the Pied Piper  \\nLed rats through the streets  \\nWe dance like marionettes  \\nSwaying to the symphony  \\nSwaying to the symphony  \\nOf destruction\\n\\n\""
      ]
     },
     "execution_count": 61,
     "metadata": {},
     "output_type": "execute_result"
    }
   ],
   "source": [
    "df['text'][0]"
   ]
  },
  {
   "cell_type": "markdown",
   "id": "d5b86ddc",
   "metadata": {},
   "source": [
    "Text Preprocessing "
   ]
  },
  {
   "cell_type": "code",
   "execution_count": 62,
   "id": "10c78414",
   "metadata": {},
   "outputs": [],
   "source": [
    "# Convert all text in the 'text' column to lowercase\n",
    "# Remove special characters (anything that is not a word character or whitespace)\n",
    "# Replace newline characters (\\n) with a space\n",
    "# df['text'] = df['text'].str.lower().replace(r'[^\\w\\s]','').replace(r'\\n',' ', regex=True)\n",
    "df['text'] = df['text'].str.lower().str.replace(r'[^\\w\\s]', '', regex=True).str.replace(r'\\n', ' ', regex=True)\n"
   ]
  },
  {
   "cell_type": "code",
   "execution_count": 63,
   "id": "ba89826b",
   "metadata": {},
   "outputs": [
    {
     "data": {
      "text/plain": [
       "'you take a mortal man   and put him in control   watch him become a god   watch peoples heads aroll   aroll a roll      just like the pied piper   led rats through the streets   we dance like marionettes   swaying to the symphony   of destruction      acting like a robot   its metal brain corrodes   you try to take its pulse   before the head explodes   explodes explodes      just like the pied piper   led rats through the streets   we dance like marionettes   swaying to the symphony      just like the pied piper   led rats through the streets   we dance like marionettes   swaying to the symphony   swaying to the symphony   of destruction      the earth starts to rumble   world powers fall   awarring for the heavens   a peaceful man stands tall   tall tall      just like the pied piper   led rats through the streets   we dance like marionettes   swaying to the symphony      just like the pied piper   led rats through the streets   we dance like marionettes   swaying to the symphony   swaying to the symphony   of destruction  '"
      ]
     },
     "execution_count": 63,
     "metadata": {},
     "output_type": "execute_result"
    }
   ],
   "source": [
    "df['text'][0]\n"
   ]
  },
  {
   "cell_type": "markdown",
   "id": "63f6359a",
   "metadata": {},
   "source": [
    "Tokenization and Stemming "
   ]
  },
  {
   "cell_type": "code",
   "execution_count": 65,
   "id": "ec68821c",
   "metadata": {},
   "outputs": [
    {
     "name": "stdout",
     "output_type": "stream",
     "text": [
      "✅ 'punkt' is available.\n"
     ]
    }
   ],
   "source": [
    "# from nltk.data import find\n",
    "\n",
    "# try:\n",
    "#     find('tokenizers/punkt')\n",
    "#     print(\"✅ 'punkt' is available.\")\n",
    "# except LookupError:\n",
    "#     print(\"❌ 'punkt' not found. Download it using nltk.download('punkt')\")\n"
   ]
  },
  {
   "cell_type": "code",
   "execution_count": 68,
   "id": "caef3f78",
   "metadata": {},
   "outputs": [
    {
     "name": "stderr",
     "output_type": "stream",
     "text": [
      "[nltk_data] Downloading package punkt_tab to\n",
      "[nltk_data]     C:\\Users\\HP\\AppData\\Roaming\\nltk_data...\n",
      "[nltk_data]   Unzipping tokenizers\\punkt_tab.zip.\n",
      "[nltk_data]   Unzipping tokenizers\\punkt_tab.zip.\n"
     ]
    },
    {
     "data": {
      "text/plain": [
       "'hello i love when you love me lover'"
      ]
     },
     "execution_count": 68,
     "metadata": {},
     "output_type": "execute_result"
    }
   ],
   "source": [
    "import nltk\n",
    "from nltk.stem.porter import PorterStemmer\n",
    "\n",
    "# Download 'punkt_tab'\n",
    "nltk.download('punkt_tab')\n",
    "\n",
    "ps = PorterStemmer()\n",
    "\n",
    "def tokenization(txt):\n",
    "    tokens = nltk.word_tokenize(txt)\n",
    "    stemming = [ps.stem(w) for w in tokens]\n",
    "    return \" \".join(stemming)\n",
    "\n",
    "# Checking the tokenization function\n",
    "tokenization('hello i loved when you loving me lovers')"
   ]
  },
  {
   "cell_type": "code",
   "execution_count": 69,
   "id": "3a091d87",
   "metadata": {},
   "outputs": [],
   "source": [
    "# CONVERTING WORKDS INTO BASE format\n",
    "# LOVES,LOVING,LOVED = LOVE\n",
    "\n",
    "import nltk\n",
    "from nltk.stem.porter import PorterStemmer\n",
    "\n",
    "stemmer = PorterStemmer()\n",
    "\n",
    "def tokenization(txt):\n",
    "    tokens = nltk.word_tokenize(txt)\n",
    "    stemming = [stemmer.stem(w) for w in tokens]\n",
    "    return \" \".join(stemming)"
   ]
  },
  {
   "cell_type": "code",
   "execution_count": 70,
   "id": "294cfdc8",
   "metadata": {},
   "outputs": [],
   "source": [
    "df['text'] = df['text'].apply(lambda x: tokenization(x))\n"
   ]
  },
  {
   "cell_type": "code",
   "execution_count": 71,
   "id": "57195b78",
   "metadata": {},
   "outputs": [
    {
     "data": {
      "text/plain": [
       "0       you take a mortal man and put him in control w...\n",
       "1       he had a black eye he wa proud of like some of...\n",
       "2       babi you know me well you know i mean what i s...\n",
       "3       claudin back in jail again claudin back in jai...\n",
       "4       he my boyfriend but he treat me so mean and so...\n",
       "                              ...                        \n",
       "4995    there a boy lost hi way look for someon to pla...\n",
       "4996    slave hebrew born to serv to the pharaoh heed ...\n",
       "4997    she come from across the street red lipstick o...\n",
       "4998    i am a victim of my time a produc of my age th...\n",
       "4999    ill die smile someth the past someon say to me...\n",
       "Name: text, Length: 5000, dtype: object"
      ]
     },
     "execution_count": 71,
     "metadata": {},
     "output_type": "execute_result"
    }
   ],
   "source": [
    "df['text']"
   ]
  },
  {
   "cell_type": "code",
   "execution_count": 72,
   "id": "69e8d934",
   "metadata": {},
   "outputs": [],
   "source": [
    "from sklearn.feature_extraction.text import TfidfVectorizer\n",
    "from sklearn.metrics.pairwise import cosine_similarity"
   ]
  },
  {
   "cell_type": "code",
   "execution_count": 73,
   "id": "9926a3df",
   "metadata": {},
   "outputs": [],
   "source": [
    "tfidvector = TfidfVectorizer(analyzer='word',stop_words='english')\n",
    "matrix = tfidvector.fit_transform(df['text'])\n",
    "similarity = cosine_similarity(matrix)"
   ]
  },
  {
   "cell_type": "code",
   "execution_count": 74,
   "id": "a62fd8b2",
   "metadata": {},
   "outputs": [
    {
     "data": {
      "text/plain": [
       "(5000, 19358)"
      ]
     },
     "execution_count": 74,
     "metadata": {},
     "output_type": "execute_result"
    }
   ],
   "source": [
    "matrix.shape"
   ]
  },
  {
   "cell_type": "code",
   "execution_count": 75,
   "id": "dea8d840",
   "metadata": {},
   "outputs": [
    {
     "data": {
      "text/plain": [
       "array([1.        , 0.029367  , 0.00686265, ..., 0.01055666, 0.00727022,\n",
       "       0.00144395], shape=(5000,))"
      ]
     },
     "execution_count": 75,
     "metadata": {},
     "output_type": "execute_result"
    }
   ],
   "source": [
    "similarity[0]\n"
   ]
  },
  {
   "cell_type": "code",
   "execution_count": 79,
   "id": "f5db46ee",
   "metadata": {},
   "outputs": [
    {
     "data": {
      "text/plain": [
       "'Symphony Of Destruction'"
      ]
     },
     "execution_count": 79,
     "metadata": {},
     "output_type": "execute_result"
    }
   ],
   "source": [
    "df['song'][0]"
   ]
  },
  {
   "cell_type": "code",
   "execution_count": 80,
   "id": "08e74888",
   "metadata": {},
   "outputs": [
    {
     "data": {
      "text/html": [
       "<div>\n",
       "<style scoped>\n",
       "    .dataframe tbody tr th:only-of-type {\n",
       "        vertical-align: middle;\n",
       "    }\n",
       "\n",
       "    .dataframe tbody tr th {\n",
       "        vertical-align: top;\n",
       "    }\n",
       "\n",
       "    .dataframe thead th {\n",
       "        text-align: right;\n",
       "    }\n",
       "</style>\n",
       "<table border=\"1\" class=\"dataframe\">\n",
       "  <thead>\n",
       "    <tr style=\"text-align: right;\">\n",
       "      <th></th>\n",
       "      <th>artist</th>\n",
       "      <th>song</th>\n",
       "      <th>text</th>\n",
       "    </tr>\n",
       "  </thead>\n",
       "  <tbody>\n",
       "    <tr>\n",
       "      <th>0</th>\n",
       "      <td>Megadeth</td>\n",
       "      <td>Symphony Of Destruction</td>\n",
       "      <td>you take a mortal man and put him in control w...</td>\n",
       "    </tr>\n",
       "  </tbody>\n",
       "</table>\n",
       "</div>"
      ],
      "text/plain": [
       "     artist                     song  \\\n",
       "0  Megadeth  Symphony Of Destruction   \n",
       "\n",
       "                                                text  \n",
       "0  you take a mortal man and put him in control w...  "
      ]
     },
     "execution_count": 80,
     "metadata": {},
     "output_type": "execute_result"
    }
   ],
   "source": [
    "df[df['song']=='Symphony Of Destruction']\n"
   ]
  },
  {
   "cell_type": "code",
   "execution_count": 76,
   "id": "4db828e0",
   "metadata": {},
   "outputs": [
    {
     "ename": "IndexError",
     "evalue": "index 0 is out of bounds for axis 0 with size 0",
     "output_type": "error",
     "traceback": [
      "\u001b[31m---------------------------------------------------------------------------\u001b[39m",
      "\u001b[31mIndexError\u001b[39m                                Traceback (most recent call last)",
      "\u001b[36mCell\u001b[39m\u001b[36m \u001b[39m\u001b[32mIn[76]\u001b[39m\u001b[32m, line 1\u001b[39m\n\u001b[32m----> \u001b[39m\u001b[32m1\u001b[39m \u001b[43mdf\u001b[49m\u001b[43m[\u001b[49m\u001b[43mdf\u001b[49m\u001b[43m[\u001b[49m\u001b[33;43m'\u001b[39;49m\u001b[33;43msong\u001b[39;49m\u001b[33;43m'\u001b[39;49m\u001b[43m]\u001b[49m\u001b[43m==\u001b[49m\u001b[33;43m'\u001b[39;49m\u001b[33;43m'\u001b[39;49m\u001b[43m]\u001b[49m\u001b[43m.\u001b[49m\u001b[43mindex\u001b[49m\u001b[43m[\u001b[49m\u001b[32;43m0\u001b[39;49m\u001b[43m]\u001b[49m\n",
      "\u001b[36mFile \u001b[39m\u001b[32m~\\AppData\\Roaming\\Python\\Python313\\site-packages\\pandas\\core\\indexes\\base.py:5389\u001b[39m, in \u001b[36mIndex.__getitem__\u001b[39m\u001b[34m(self, key)\u001b[39m\n\u001b[32m   5386\u001b[39m \u001b[38;5;28;01mif\u001b[39;00m is_integer(key) \u001b[38;5;129;01mor\u001b[39;00m is_float(key):\n\u001b[32m   5387\u001b[39m     \u001b[38;5;66;03m# GH#44051 exclude bool, which would return a 2d ndarray\u001b[39;00m\n\u001b[32m   5388\u001b[39m     key = com.cast_scalar_indexer(key)\n\u001b[32m-> \u001b[39m\u001b[32m5389\u001b[39m     \u001b[38;5;28;01mreturn\u001b[39;00m \u001b[43mgetitem\u001b[49m\u001b[43m(\u001b[49m\u001b[43mkey\u001b[49m\u001b[43m)\u001b[49m\n\u001b[32m   5391\u001b[39m \u001b[38;5;28;01mif\u001b[39;00m \u001b[38;5;28misinstance\u001b[39m(key, \u001b[38;5;28mslice\u001b[39m):\n\u001b[32m   5392\u001b[39m     \u001b[38;5;66;03m# This case is separated from the conditional above to avoid\u001b[39;00m\n\u001b[32m   5393\u001b[39m     \u001b[38;5;66;03m# pessimization com.is_bool_indexer and ndim checks.\u001b[39;00m\n\u001b[32m   5394\u001b[39m     \u001b[38;5;28;01mreturn\u001b[39;00m \u001b[38;5;28mself\u001b[39m._getitem_slice(key)\n",
      "\u001b[31mIndexError\u001b[39m: index 0 is out of bounds for axis 0 with size 0"
     ]
    }
   ],
   "source": [
    "df[df['song']==''].index[0]\n"
   ]
  },
  {
   "cell_type": "code",
   "execution_count": 81,
   "id": "a41454e8",
   "metadata": {},
   "outputs": [],
   "source": [
    "def recommendation(song_df):\n",
    "    idx = df[df['song'] == song_df].index[0]\n",
    "    distances = sorted(list(enumerate(similarity[idx])),reverse=True,key=lambda x:x[1])\n",
    "    \n",
    "    songs = []\n",
    "    for m_id in distances[1:21]:\n",
    "        songs.append(df.iloc[m_id[0]].song)\n",
    "        \n",
    "    return songs"
   ]
  },
  {
   "cell_type": "code",
   "execution_count": 83,
   "id": "b21f5533",
   "metadata": {},
   "outputs": [
    {
     "data": {
      "text/plain": [
       "[\"I'm Goin'\",\n",
       " \"I'm Alone\",\n",
       " \"Goin' Out Of My Head\",\n",
       " \"Goin' Down\",\n",
       " 'By Myself But Not Alone',\n",
       " 'All Alone',\n",
       " 'Pass It Around',\n",
       " 'I Would Find You',\n",
       " 'Leave My Woman Alone',\n",
       " \"I Think We're Alone Now\",\n",
       " 'Dark Hollow',\n",
       " 'Not Alone',\n",
       " 'How Long Has This Been Going On',\n",
       " \"Things Goin' On\",\n",
       " \"When We're Old Men\",\n",
       " 'Whenever You Need Somebody',\n",
       " 'Men Are All The Same',\n",
       " \"All I'm Thinkin' About\",\n",
       " 'I Get No Sleep',\n",
       " 'Blue Again']"
      ]
     },
     "execution_count": 83,
     "metadata": {},
     "output_type": "execute_result"
    }
   ],
   "source": [
    "recommendation('Alone')\n"
   ]
  },
  {
   "cell_type": "code",
   "execution_count": 84,
   "id": "d643c1db",
   "metadata": {},
   "outputs": [],
   "source": [
    "import pickle\n",
    "pickle.dump(similarity,open('similarity.pkl','wb'))\n",
    "pickle.dump(df,open('df.pkl','wb'))"
   ]
  },
  {
   "cell_type": "code",
   "execution_count": null,
   "id": "44ae9875",
   "metadata": {},
   "outputs": [],
   "source": []
  }
 ],
 "metadata": {
  "kernelspec": {
   "display_name": "Python 3",
   "language": "python",
   "name": "python3"
  },
  "language_info": {
   "codemirror_mode": {
    "name": "ipython",
    "version": 3
   },
   "file_extension": ".py",
   "mimetype": "text/x-python",
   "name": "python",
   "nbconvert_exporter": "python",
   "pygments_lexer": "ipython3",
   "version": "3.13.1"
  }
 },
 "nbformat": 4,
 "nbformat_minor": 5
}
